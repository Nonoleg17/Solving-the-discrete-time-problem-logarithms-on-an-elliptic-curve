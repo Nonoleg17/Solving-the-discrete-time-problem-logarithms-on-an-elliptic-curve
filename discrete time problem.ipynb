{
 "cells": [
  {
   "cell_type": "code",
   "execution_count": 1,
   "metadata": {},
   "outputs": [
    {
     "name": "stdout",
     "output_type": "stream",
     "text": [
      "p: 761756077588447\n",
      "A: 22029964177549\n",
      "B: 356128825252225\n",
      "Elliptic Curve defined by y^2 = x^3 + 22029964177549*x + 356128825252225 over Finite Field of size 761756077588447\n",
      "P: (638022125660715 : 58334186304150 : 1)\n",
      "Q: (579179042009637 : 191874921191485 : 1)\n",
      "Iter: 5\n",
      "Find Discret log\n",
      "--- 0.22108745574951172 seconds ---\n"
     ]
    }
   ],
   "source": [
    "from random import randint\n",
    "import time\n",
    "def hellman(E, P, Q):\n",
    "    q = P.additive_order()\n",
    "    q_factor,i = factor(q),0\n",
    "    #print(q_factor)\n",
    "    d_j_list = []\n",
    "    for qa in q_factor:      \n",
    "        p,a = qa[0],qa[1]      \n",
    "        S,z,P_0,d_j = E(0, 1, 0),0,(q // p) * P,0\n",
    "        for k in range(0, a):       \n",
    "            S = S+ int(z * (p**(k - 1))) * P\n",
    "            Q_k = int(q // (p**(k + 1))) * (Q - S)\n",
    "            z = discrete_log(Q_k, P_0, P_0.additive_order(), operation='+')\n",
    "            d_j =d_j+ z * pow(p, k)\n",
    "        \n",
    "        d_j_list.append(int(mod(d_j, p**a)))\n",
    "        i+=1\n",
    "    \n",
    "    print(\"Iter:\",i)\n",
    "    q_j_list = [qa[0]**qa[1] for qa in q_factor]\n",
    "    d = crt(d_j_list, q_j_list)\n",
    "    return d\n",
    "    \n",
    "\n",
    "p = 761756077588447\n",
    "a = 22029964177549\n",
    "b = 356128825252225\n",
    "d = 258\n",
    "K = GF(p)\n",
    "E = EllipticCurve(K, [a, b])\n",
    "print('p:',p)\n",
    "print('A:',a)\n",
    "print('B:',b)\n",
    "print(E)\n",
    "\n",
    "P = E.random_point()\n",
    "Q = d * P\n",
    "print('P:',P)\n",
    "print('Q:',Q)\n",
    "start_time = time.time()\n",
    "res=hellman(E, P, Q)\n",
    "if res == d:\n",
    "     print('Find Discret log')\n",
    "else:\n",
    "     print('Not find Discret log')\n",
    "print(\"--- %s seconds ---\" % (time.time() - start_time))    \n"
   ]
  },
  {
   "cell_type": "code",
   "execution_count": null,
   "metadata": {},
   "outputs": [],
   "source": []
  },
  {
   "cell_type": "code",
   "execution_count": null,
   "metadata": {},
   "outputs": [],
   "source": []
  }
 ],
 "metadata": {
  "kernelspec": {
   "display_name": "SageMath 9.2",
   "language": "sage",
   "name": "sagemath"
  },
  "language_info": {
   "codemirror_mode": {
    "name": "ipython",
    "version": 3
   },
   "file_extension": ".py",
   "mimetype": "text/x-python",
   "name": "python",
   "nbconvert_exporter": "python",
   "pygments_lexer": "ipython3",
   "version": "3.7.7"
  }
 },
 "nbformat": 4,
 "nbformat_minor": 4
}
